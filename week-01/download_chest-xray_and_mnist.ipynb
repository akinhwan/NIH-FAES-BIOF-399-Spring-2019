{
 "cells": [
  {
   "cell_type": "code",
   "execution_count": null,
   "metadata": {
    "colab": {},
    "colab_type": "code",
    "id": "sGGQlvh8wJKo"
   },
   "outputs": [],
   "source": [
    "import os\n",
    "import numpy as np"
   ]
  },
  {
   "cell_type": "code",
   "execution_count": null,
   "metadata": {},
   "outputs": [],
   "source": [
    "# download and unzip pneumonia detection data"
   ]
  },
  {
   "cell_type": "code",
   "execution_count": null,
   "metadata": {
    "colab": {},
    "colab_type": "code",
    "id": "OI_TgEY6wRWb"
   },
   "outputs": [],
   "source": [
    "ROOT_DIR = '/data/user/pneumonia_detection_data'\n",
    "if not os.path.exists(ROOT_DIR):\n",
    "    os.makedirs(ROOT_DIR)\n",
    "os.chdir(ROOT_DIR)"
   ]
  },
  {
   "cell_type": "code",
   "execution_count": null,
   "metadata": {
    "colab": {},
    "colab_type": "code",
    "id": "AfuNibcHwWJA"
   },
   "outputs": [],
   "source": [
    "# see if you have data already\n",
    "!ls /data/user/pneumonia_detection_data"
   ]
  },
  {
   "cell_type": "code",
   "execution_count": null,
   "metadata": {
    "colab": {
     "base_uri": "https://localhost:8080/",
     "height": 1427
    },
    "colab_type": "code",
    "id": "mT5ixSPuwX9J",
    "outputId": "55e57948-0c64-4358-8a9e-f735d549a3a5"
   },
   "outputs": [],
   "source": [
    "!wget --no-check-certificate -r 'https://docs.google.com/uc?export=download&id=1ertt7A696f8HC0qk-yqmSoTZKCsp2XWU' -O stage_1_train_images.zip"
   ]
  },
  {
   "cell_type": "code",
   "execution_count": null,
   "metadata": {
    "colab": {
     "base_uri": "https://localhost:8080/",
     "height": 1427
    },
    "colab_type": "code",
    "id": "A0iOQ-arwZ_R",
    "outputId": "c77fe9f4-40a2-4928-9f26-f366fcf780de"
   },
   "outputs": [],
   "source": [
    "!wget --no-check-certificate -r 'https://docs.google.com/uc?export=download&id=1ppgqzDVa9hQYbxgjV_k7AUUOKTw7ca9Q' -O stage_1_test_images.zip"
   ]
  },
  {
   "cell_type": "code",
   "execution_count": null,
   "metadata": {
    "colab": {
     "base_uri": "https://localhost:8080/",
     "height": 442
    },
    "colab_type": "code",
    "id": "RlnqThxXwcKB",
    "outputId": "806da11b-d3ce-4a22-9e6c-59fa2ee63630"
   },
   "outputs": [],
   "source": [
    "!wget --no-check-certificate -r 'https://docs.google.com/uc?export=download&id=1yI8jJw9DGMeZeMgHaoZBUeuebt11qe0v' -O stage_1_train_labels.csv.zip"
   ]
  },
  {
   "cell_type": "code",
   "execution_count": null,
   "metadata": {
    "colab": {
     "base_uri": "https://localhost:8080/",
     "height": 442
    },
    "colab_type": "code",
    "id": "fI8ygEZyweL6",
    "outputId": "39429578-9f40-4176-f8f6-293aec7a3a59"
   },
   "outputs": [],
   "source": [
    "!wget --no-check-certificate -r 'https://docs.google.com/uc?export=download&id=1lpa5bsCKOgesx1zP7h5UIDwN4FzvjooD' -O stage_1_detailed_class_info.csv.zip"
   ]
  },
  {
   "cell_type": "code",
   "execution_count": null,
   "metadata": {
    "colab": {
     "base_uri": "https://localhost:8080/",
     "height": 140
    },
    "colab_type": "code",
    "id": "Nahr9vKfwhR7",
    "outputId": "2af92f3a-d503-4725-e2c1-b335ac184379"
   },
   "outputs": [],
   "source": [
    "# unzipping takes a few minutes\n",
    "!unzip -q -o stage_1_test_images.zip -d stage_1_test_images\n",
    "!unzip -q -o stage_1_train_images.zip -d stage_1_train_images\n",
    "!unzip -q -o stage_1_train_labels.csv.zip\n",
    "!unzip -q -o stage_1_detailed_class_info.csv.zip"
   ]
  },
  {
   "cell_type": "code",
   "execution_count": null,
   "metadata": {
    "colab": {
     "base_uri": "https://localhost:8080/",
     "height": 87
    },
    "colab_type": "code",
    "id": "IwwQ_DlDwjMJ",
    "outputId": "0ba4e4e1-bc07-4318-917f-e9b26bc4af55"
   },
   "outputs": [],
   "source": [
    "!ls"
   ]
  },
  {
   "cell_type": "code",
   "execution_count": null,
   "metadata": {},
   "outputs": [],
   "source": [
    "# download and unzip mnist data"
   ]
  },
  {
   "cell_type": "code",
   "execution_count": null,
   "metadata": {},
   "outputs": [],
   "source": [
    "os.chdir('../')"
   ]
  },
  {
   "cell_type": "code",
   "execution_count": null,
   "metadata": {},
   "outputs": [],
   "source": [
    "!git clone https://github.com/myleott/mnist_png.git"
   ]
  },
  {
   "cell_type": "code",
   "execution_count": null,
   "metadata": {},
   "outputs": [],
   "source": [
    "os.chdir('mnist_png')"
   ]
  },
  {
   "cell_type": "code",
   "execution_count": null,
   "metadata": {},
   "outputs": [],
   "source": [
    "!tar -xzf mnist_png.tar.gz"
   ]
  },
  {
   "cell_type": "code",
   "execution_count": null,
   "metadata": {},
   "outputs": [],
   "source": [
    "!ls"
   ]
  }
 ],
 "metadata": {
  "accelerator": "GPU",
  "colab": {
   "name": "investigate_bbox_priors.ipynb",
   "provenance": [],
   "version": "0.3.2"
  },
  "kernelspec": {
   "display_name": "Python 3",
   "language": "python",
   "name": "python3"
  },
  "language_info": {
   "codemirror_mode": {
    "name": "ipython",
    "version": 3
   },
   "file_extension": ".py",
   "mimetype": "text/x-python",
   "name": "python",
   "nbconvert_exporter": "python",
   "pygments_lexer": "ipython3",
   "version": "3.7.0"
  }
 },
 "nbformat": 4,
 "nbformat_minor": 1
}
